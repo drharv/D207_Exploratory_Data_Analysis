{
 "cells": [
  {
   "cell_type": "markdown",
   "metadata": {},
   "source": [
    "# Exploratory Data Analysis - D207 Project"
   ]
  },
  {
   "cell_type": "markdown",
   "metadata": {},
   "source": [
    "## I.  Situation and Dictionary Description"
   ]
  },
  {
   "cell_type": "markdown",
   "metadata": {},
   "source": [
    "### 1.  Provide one question that is relevant to your chosen data set. You will answer this question later in the task through an analysis of the cleaned data, using one of the following techniques: chi-square, t-test, or analysis of variance (ANOVA)."
   ]
  },
  {
   "cell_type": "markdown",
   "metadata": {},
   "source": [
    "Are there variables that can help us determine when a patient is more likely to be readmitted?  We will investigate a couple of data points and compare between the populations of patients with and without readmission."
   ]
  },
  {
   "cell_type": "markdown",
   "metadata": {},
   "source": [
    "### 2.  Explain how stakeholders in the organization could benefit from an analysis of the data."
   ]
  },
  {
   "cell_type": "markdown",
   "metadata": {},
   "source": [
    "This could lead to us giving more thought to cases that seem to be heading towards readmission, and pre-emptively combat the problem.  Since the hospital is fined based on excessive readmissions, this could lead to a saving in costs.  Also, it is better for the patients health if we provide more focused care when needed."
   ]
  },
  {
   "cell_type": "markdown",
   "metadata": {},
   "source": [
    "### 3.  Identify all of the data in your data set that are relevant to answering your question in part A1."
   ]
  },
  {
   "cell_type": "markdown",
   "metadata": {},
   "source": [
    "First, I am going to look at the data point we want to correlate with (Readmission), and then some of the key data points I might use during my investigation.  I will list a large set of possibilities, and then pick out a few that I think are my probable during my analysis."
   ]
  },
  {
   "cell_type": "markdown",
   "metadata": {},
   "source": [
    "| Variable | Data Type | Range Type |\n",
    "|:-------- |:---------:|:----------:|\n",
    "|Readmission (Primary)|Qualitative|Discrete|\n",
    "|Age|Quantitative|Continuous|\n",
    "|Gender|Qualitative|Discrete|\n",
    "|Overweight|Qualitative|Discrete|\n",
    "|Services|Qualitative|Discrete|\n",
    "|Doc Visits|Quantitative|Discrete|\n",
    "|Vitamin D Levels|Quantitative|Continuous|\n",
    "|Initial Days|Quantitative|Continuous|\n",
    "|High Blood Pressure|Qualitative|Discrete|\n",
    "|Income|Quantitative|Continuous|\n",
    "|Complication Risk|Qualitative|Discrete|\n",
    "|Area|Qualitative|Discrete|\n"
   ]
  },
  {
   "cell_type": "markdown",
   "metadata": {},
   "source": [
    "## II.  Describe the Data Analysis"
   ]
  },
  {
   "cell_type": "markdown",
   "metadata": {},
   "source": [
    "### 1.  Using one of the following techniques, write code (in either Python or R) to run the analysis of the data set:"
   ]
  },
  {
   "cell_type": "markdown",
   "metadata": {},
   "source": [
    "Below are our options for analysis techniques.\n",
    "\n",
    "| Technique | Use Case |\n",
    "|:----------|:---------|\n",
    "|Pearson's R|relationship between two continuous variables|\n",
    "|Chi-Square|relationship between two categorical (Discrete Qualitative) variables|\n",
    "|t-Tests|difference on a continuous variable between two groups (categorical)|\n",
    "|ANOVA|generalized t-Test used to test difference in a continuous variable between 3 or more groups (categorical)|\n",
    "\n",
    "Since we are starting with a categorical variable (Readmission), we will employee **Chi-Square** and a **t-Test** to investigate relationships and possible correlation.  We will use Rate of readmission because the population sizes differ between the Services.\n",
    "<br><br>\n",
    "We will begin with a Chi-Square test using Readmission and the Services performed.<br>We want to determine with 95% certainty that the Services performed are not related to Readmission.\n",
    "<br><br>\n",
    "Null Hypothesis: All services have an equal chance of Readmission\n",
    "<br>\n",
    "Alternative  Hypthesis: Not all services have an equal chance of Readmission\n",
    "<br><br>\n",
    "Significance Level (alpha) = 5%"
   ]
  },
  {
   "cell_type": "code",
   "execution_count": 1,
   "metadata": {},
   "outputs": [],
   "source": [
    "# Import necessary libraries\n",
    "import pandas as pd\n",
    "import numpy as np\n",
    "import scipy.stats\n",
    "from scipy.stats import chisquare\n",
    "from scipy import stats\n",
    "import seaborn as sns\n",
    "\n",
    "# Load in the dataset\n",
    "df = pd.read_csv(\"medical_clean.csv\")"
   ]
  },
  {
   "cell_type": "code",
   "execution_count": 2,
   "metadata": {},
   "outputs": [
    {
     "data": {
      "text/plain": [
       "No     6331\n",
       "Yes    3669\n",
       "Name: ReAdmis, dtype: int64"
      ]
     },
     "execution_count": 2,
     "metadata": {},
     "output_type": "execute_result"
    }
   ],
   "source": [
    "# Get the count of Yes/No for the Readmis column, so we know the overall rate of Readmission\n",
    "df.ReAdmis.value_counts()"
   ]
  },
  {
   "cell_type": "code",
   "execution_count": 3,
   "metadata": {},
   "outputs": [
    {
     "data": {
      "text/html": [
       "<div>\n",
       "<style scoped>\n",
       "    .dataframe tbody tr th:only-of-type {\n",
       "        vertical-align: middle;\n",
       "    }\n",
       "\n",
       "    .dataframe tbody tr th {\n",
       "        vertical-align: top;\n",
       "    }\n",
       "\n",
       "    .dataframe thead th {\n",
       "        text-align: right;\n",
       "    }\n",
       "</style>\n",
       "<table border=\"1\" class=\"dataframe\">\n",
       "  <thead>\n",
       "    <tr style=\"text-align: right;\">\n",
       "      <th></th>\n",
       "      <th>ReAdmisBit</th>\n",
       "      <th>Services</th>\n",
       "      <th>Rate</th>\n",
       "    </tr>\n",
       "  </thead>\n",
       "  <tbody>\n",
       "    <tr>\n",
       "      <th>Blood Work</th>\n",
       "      <td>1930</td>\n",
       "      <td>5265</td>\n",
       "      <td>0.366572</td>\n",
       "    </tr>\n",
       "    <tr>\n",
       "      <th>CT Scan</th>\n",
       "      <td>488</td>\n",
       "      <td>1225</td>\n",
       "      <td>0.398367</td>\n",
       "    </tr>\n",
       "    <tr>\n",
       "      <th>Intravenous</th>\n",
       "      <td>1103</td>\n",
       "      <td>3130</td>\n",
       "      <td>0.352396</td>\n",
       "    </tr>\n",
       "    <tr>\n",
       "      <th>MRI</th>\n",
       "      <td>148</td>\n",
       "      <td>380</td>\n",
       "      <td>0.389474</td>\n",
       "    </tr>\n",
       "  </tbody>\n",
       "</table>\n",
       "</div>"
      ],
      "text/plain": [
       "             ReAdmisBit  Services      Rate\n",
       "Blood Work         1930      5265  0.366572\n",
       "CT Scan             488      1225  0.398367\n",
       "Intravenous        1103      3130  0.352396\n",
       "MRI                 148       380  0.389474"
      ]
     },
     "execution_count": 3,
     "metadata": {},
     "output_type": "execute_result"
    }
   ],
   "source": [
    "# Create a Readmis column of 0 and 1 so we can easily sum it\n",
    "conditions = [(df['ReAdmis'] == 'Yes'),\n",
    "    (df['ReAdmis'] != 'No')]\n",
    "# Create a list of the values\n",
    "values = [1, 0]\n",
    "\n",
    "# Add the summable column\n",
    "df['ReAdmisBit'] = np.select(conditions, values)\n",
    "\n",
    "# Sum the readmission count by service provided\n",
    "dfServices_ReAdmis = df.groupby('Services')['ReAdmisBit'].sum()\n",
    "# Get the count of records for each Service type\n",
    "dfServices_Totals = df.Services.value_counts()\n",
    "\n",
    "# Blend the totals together and calculate the percentage of the population that was readmitted\n",
    "dfServices = pd.concat([dfServices_ReAdmis, dfServices_Totals], axis = 1, join = 'inner')\n",
    "dfServices['Rate'] = dfServices['ReAdmisBit'] / dfServices['Services']\n",
    "dfServices"
   ]
  },
  {
   "cell_type": "code",
   "execution_count": 4,
   "metadata": {},
   "outputs": [
    {
     "name": "stdout",
     "output_type": "stream",
     "text": [
      "Chi-Square critical value for 3 dof and 5% probability:  7.815\n",
      "P-value for chi-squared on rate of Readmission/Service: 0.005\n"
     ]
    }
   ],
   "source": [
    "# Get the category count, positive count, negative count, and normal percent of population that is readmitted\n",
    "category_count = len(df.Services.unique())\n",
    "positive_count = dfServices['ReAdmisBit'].sum()\n",
    "negative_count = len(df) - positive_count\n",
    "normal_rate = positive_count / (positive_count + negative_count)\n",
    "\n",
    "# Create a list of the norm repeating for use in our chi-square function\n",
    "norms = [normal_rate] * category_count\n",
    "\n",
    "# find Chi-Square critical value for 95% certainty\n",
    "crit_value = scipy.stats.chi2.ppf(1 - .05, df = category_count - 1)\n",
    "# find our current Chi-Square value\n",
    "chi_square = chisquare(dfServices['Rate'], norms)\n",
    "\n",
    "print(f'Chi-Square critical value for 3 dof and 5% probability:  {crit_value:.3f}')\n",
    "print(f'P-value for chi-squared on rate of Readmission/Service: {chi_square[0]:.3f}')"
   ]
  },
  {
   "cell_type": "markdown",
   "metadata": {},
   "source": [
    "Since our Chi-Square p-value (0.005) is well below the critical value (7.815), we fail to reject the Null Hypothesis and determine that there is not sufficient evidence to prove a difference in readmission rate based on Services being provided.\n",
    "\n",
    "---\n",
    "\n",
    "Next, we will use a t-Test to see if we can determine if there is a difference between Readmission and Non-Readmission Vitamin D Levels.  Perhaps we can use Vitamin D levels as a warning sign for Readmissions.\n",
    "<br><br>\n",
    "Null Hypothesis: The Vitamin D Levels in Readmissions == The Vitamin D Levels in Non-Readmissions\n",
    "<br>\n",
    "Alternative  Hypothesis: The Vitamin D Levels in Readmissions <> The Vitamin D Levels in Non-Readmissions\n",
    "<br><br>\n",
    "Significance Level (alpha) = 5%"
   ]
  },
  {
   "cell_type": "code",
   "execution_count": 5,
   "metadata": {},
   "outputs": [
    {
     "name": "stdout",
     "output_type": "stream",
     "text": [
      "P-value for double sided t-test: 0.6831\n"
     ]
    }
   ],
   "source": [
    "res = stats.ttest_ind(df[df.ReAdmisBit == 1].VitD_levels,\n",
    "                          df[df.ReAdmisBit == 0].VitD_levels)\n",
    "print(f'P-value for double sided t-test: {res.pvalue:.4f}')"
   ]
  },
  {
   "cell_type": "markdown",
   "metadata": {},
   "source": [
    "Since our p-Value (0.6831) is greater than our significance (alpha = 0.05), we will fail to reject the Null Hypothesis.  We do not have sufficient evidence to concur that the mean Vitamin D Levels between Readmissions and Non-Readmissions is different."
   ]
  },
  {
   "cell_type": "markdown",
   "metadata": {},
   "source": [
    "### 2.  Provide the output and the results of any calculations from the analysis you performed."
   ]
  },
  {
   "cell_type": "markdown",
   "metadata": {},
   "source": [
    "For the comparison of Readmission populations by Service type, we received a Chi Square P-value of 0.005.  Using our 3 degrees of freedom (4 services) and 5% probability, we received a critical value of 7.815.  Since our p-value fell below the critical value, we fail to reject the null hypthesis and determine there is not evidence of a difference in the the rate of readmission based on service performed.\n",
    "<br><br>\n",
    "For the comparison of Vitamin D leves by Readmission, we received a p value of 0.6831.  Since that was well above our significance level, we fail to reject the Null Hypothesis and concur that the Vitamin D levels are equally distributed among both Readmissions and Non-Readmissions."
   ]
  },
  {
   "cell_type": "markdown",
   "metadata": {},
   "source": [
    "### 3.  Justify why you chose this analysis technique."
   ]
  },
  {
   "cell_type": "markdown",
   "metadata": {},
   "source": [
    "I chose Chi-Square and t-Test because I wanted to look for relationships between Readmissions (categorical) and multiple other values including both qualitative and quantitative.  Chi-Square allowed us to compare other categorical values to the Readmissions, while a t-Test allowed us to compare using a continuous value."
   ]
  },
  {
   "cell_type": "markdown",
   "metadata": {},
   "source": [
    "## III. Additional Distribution Information - Univariate"
   ]
  },
  {
   "cell_type": "markdown",
   "metadata": {},
   "source": [
    "We will now display some of the distributions with visualizations.  I have chosen Age and Vitamin D Levels for continuos variables, and Area and Service as the categorical variables."
   ]
  },
  {
   "cell_type": "code",
   "execution_count": 6,
   "metadata": {},
   "outputs": [
    {
     "data": {
      "text/plain": [
       "<seaborn.axisgrid.FacetGrid at 0x1076b0f70>"
      ]
     },
     "execution_count": 6,
     "metadata": {},
     "output_type": "execute_result"
    },
    {
     "data": {
      "image/png": "[encoded data removed]",
      "text/plain": [
       "<Figure size 360x360 with 1 Axes>"
      ]
     },
     "metadata": {
      "needs_background": "light"
     },
     "output_type": "display_data"
    }
   ],
   "source": [
    "sns.displot(x = df.Age)"
   ]
  },
  {
   "cell_type": "code",
   "execution_count": 7,
   "metadata": {},
   "outputs": [
    {
     "data": {
      "text/plain": [
       "<seaborn.axisgrid.FacetGrid at 0x11b1f16d0>"
      ]
     },
     "execution_count": 7,
     "metadata": {},
     "output_type": "execute_result"
    },
    {
     "data": {
      "image/png": "[encoded data removed]",
      "text/plain": [
       "<Figure size 360x360 with 1 Axes>"
      ]
     },
     "metadata": {
      "needs_background": "light"
     },
     "output_type": "display_data"
    }
   ],
   "source": [
    "sns.displot(x = df.VitD_levels)"
   ]
  },
  {
   "cell_type": "code",
   "execution_count": 8,
   "metadata": {},
   "outputs": [
    {
     "data": {
      "text/plain": [
       "<seaborn.axisgrid.FacetGrid at 0x11b544fa0>"
      ]
     },
     "execution_count": 8,
     "metadata": {},
     "output_type": "execute_result"
    },
    {
     "data": {
      "image/png": "[encoded data removed]",
      "text/plain": [
       "<Figure size 360x360 with 1 Axes>"
      ]
     },
     "metadata": {
      "needs_background": "light"
     },
     "output_type": "display_data"
    }
   ],
   "source": [
    "sns.displot(x = df.Services)"
   ]
  },
  {
   "cell_type": "code",
   "execution_count": 9,
   "metadata": {},
   "outputs": [
    {
     "data": {
      "text/plain": [
       "<seaborn.axisgrid.FacetGrid at 0x11b416a30>"
      ]
     },
     "execution_count": 9,
     "metadata": {},
     "output_type": "execute_result"
    },
    {
     "data": {
      "image/png": "[encoded data removed]",
      "text/plain": [
       "<Figure size 360x360 with 1 Axes>"
      ]
     },
     "metadata": {
      "needs_background": "light"
     },
     "output_type": "display_data"
    }
   ],
   "source": [
    "sns.displot(x = df.Area)"
   ]
  },
  {
   "cell_type": "markdown",
   "metadata": {},
   "source": [
    "## IV. Additional Distribution Information - Bivariate"
   ]
  },
  {
   "cell_type": "markdown",
   "metadata": {},
   "source": [
    "For bivariate statistics, I compared the following variables -\n",
    "\n",
    "1. Vitamin D Levels vs High Blood Pressure"
   ]
  },
  {
   "cell_type": "code",
   "execution_count": 10,
   "metadata": {},
   "outputs": [
    {
     "data": {
      "text/plain": [
       "<seaborn.axisgrid.FacetGrid at 0x11aec1460>"
      ]
     },
     "execution_count": 10,
     "metadata": {},
     "output_type": "execute_result"
    },
    {
     "data": {
      "image/png": "[encoded data removed]",
      "text/plain": [
       "<Figure size 419.25x360 with 1 Axes>"
      ]
     },
     "metadata": {
      "needs_background": "light"
     },
     "output_type": "display_data"
    }
   ],
   "source": [
    "sns.displot(x = df.VitD_levels, hue = df.HighBlood, multiple = \"stack\")"
   ]
  },
  {
   "cell_type": "markdown",
   "metadata": {},
   "source": [
    "2. Age vs Additional Charges (this was very interesting as there seemed to be two distinct groupings of charges for each age)"
   ]
  },
  {
   "cell_type": "code",
   "execution_count": 11,
   "metadata": {},
   "outputs": [
    {
     "data": {
      "text/plain": [
       "<seaborn.axisgrid.JointGrid at 0x11be9f4c0>"
      ]
     },
     "execution_count": 11,
     "metadata": {},
     "output_type": "execute_result"
    },
    {
     "data": {
      "image/png": "[encoded data removed]",
      "text/plain": [
       "<Figure size 432x432 with 3 Axes>"
      ]
     },
     "metadata": {
      "needs_background": "light"
     },
     "output_type": "display_data"
    }
   ],
   "source": [
    "sns.jointplot(x = df.Age, y = df.Additional_charges)"
   ]
  },
  {
   "cell_type": "markdown",
   "metadata": {},
   "source": [
    "3. Complication Risks vs Overweight"
   ]
  },
  {
   "cell_type": "code",
   "execution_count": 12,
   "metadata": {},
   "outputs": [
    {
     "data": {
      "text/plain": [
       "<seaborn.axisgrid.FacetGrid at 0x11c1c2130>"
      ]
     },
     "execution_count": 12,
     "metadata": {},
     "output_type": "execute_result"
    },
    {
     "data": {
      "image/png": "[encoded data removed]",
      "text/plain": [
       "<Figure size 425.625x360 with 1 Axes>"
      ]
     },
     "metadata": {
      "needs_background": "light"
     },
     "output_type": "display_data"
    }
   ],
   "source": [
    "sns.displot(x = df.Complication_risk, hue = df.Overweight, multiple = \"stack\")"
   ]
  },
  {
   "cell_type": "markdown",
   "metadata": {},
   "source": [
    "4. Area vs High Blood Pressure"
   ]
  },
  {
   "cell_type": "code",
   "execution_count": 13,
   "metadata": {},
   "outputs": [
    {
     "data": {
      "text/plain": [
       "<seaborn.axisgrid.FacetGrid at 0x11c2de430>"
      ]
     },
     "execution_count": 13,
     "metadata": {},
     "output_type": "execute_result"
    },
    {
     "data": {
      "image/png": "[encoded data removed]",
      "text/plain": [
       "<Figure size 419.25x360 with 1 Axes>"
      ]
     },
     "metadata": {
      "needs_background": "light"
     },
     "output_type": "display_data"
    }
   ],
   "source": [
    "sns.displot(x = df.Area, hue = df.HighBlood, multiple = \"stack\")"
   ]
  },
  {
   "cell_type": "markdown",
   "metadata": {},
   "source": [
    "## V.  Summarize Implications of Analysis"
   ]
  },
  {
   "cell_type": "markdown",
   "metadata": {},
   "source": [
    "### 1.  Discuss the results of the hypothesis test.\n",
    "\n",
    "Unfortunately, neither of my tests indicated a strong relationship.  That is often the answer.  In the future I would probably start with something like PairGrid from Seaborn and get an initial overview of all relationships - then decide if there is an interesting relationship to explore further.\n",
    "<br><br>\n",
    "---\n",
    "**Recap of Results for Chi-Square Test:**\n",
    "<br>\n",
    "Null Hypothesis: All services have an equal chance of Readmission\n",
    "<br>\n",
    "Alternative  Hypthesis: Not all services have an equal chance of Readmission\n",
    "<br>\n",
    "Significance Level (alpha) = 5%\n",
    "<br><br>\n",
    "Chi-Square critical value for 3 dof and 5% probability:  7.815\n",
    "<br>\n",
    "P-value for chi-squared on rate of Readmission / service: 0.005\n",
    "<br><br>\n",
    "Since our Chi-Square p-value (0.005) is well below the critical value (7.815), we fail to reject the Null Hypothesis and determine that there is not sufficient evidence to prove a difference in readmission rate based on Services being provided.\n",
    "<br>\n",
    "---\n",
    "**Recap of Results for t-Test:**\n",
    "<br>\n",
    "Null Hypothesis: The Vitamin D Levels in Readmissions == The Vitamin D Levels in Non-Readmissions\n",
    "<br>\n",
    "Alternative  Hypothesis: The Vitamin D Levels in Readmissions <> The Vitamin D Levels in Non-Readmissions\n",
    "<br>\n",
    "Significance Level (alpha) = 5%\n",
    "<br><br>P-value for double sided t-test: 0.6831\n",
    "<br><br>\n",
    "For the comparison of Vitamin D leves by Readmission, we received a P-value of 0.6831.  Since that was well above our significance level, we fail to reject the Null Hypothesis and concur that the Vitamin D levels are equally distributed among both Readmissions and Non-Readmissions.\n",
    "<br>\n",
    "---\n"
   ]
  },
  {
   "cell_type": "markdown",
   "metadata": {},
   "source": [
    "### 2.  Discuss the limitations of your data analysis.\n",
    "\n",
    "If we found a relationship that we believed to exhibit correlation, it would be prudent to apply linear regression or another method to develop a predictive model.  It would have been beneficial to have even more data points (preferably continuous), to see if we could detect some driving factors.  Running more tests would also be necessary - not just a few t-Tests or Chi-Square hypotheses.\n",
    "\n",
    "Beyond the initial findings, there are limitations to each analysis type.\n",
    "<br>\n",
    "* Chi-Square\n",
    " * All participants measured must be independent, meaning that an individual cannot fit in more than one category (When Chi-square Is Appropriate, n.d.)\n",
    " * Chi-square tests do not give much information about the strength of the relationship (When Chi-square Is Appropriate, n.d.)\n",
    " * Samples need to be truly selected at random for the tests to be accurate (Davila, 2016)\n",
    "<br><br>\n",
    "- t-Test\n",
    " - Data must be continuous for the t-test to succeed (Maverick, 2019)\n",
    " - Samples need to be truly selected at random for the tests to be accurate (Davila, 2016)\n",
    " - The data points sampled need to follow a normal distribution (Maverick, 2019)\n",
    " - t-Test assume homogeneity of variance (Maverick, 2019)"
   ]
  },
  {
   "cell_type": "markdown",
   "metadata": {},
   "source": [
    "### 3.  Recommend a course of action based on your results.\n",
    "\n",
    "I would recommend further data collection on a broader set of attributes, followed by more analysis.  Unfortunately, there were no strong indicators in the values I tested, and this is a common the outcome.  This can commonly be caused by not capturing or testing enough data points that are driving the results.\n",
    "<br><br>\n",
    "There is a near infinite number of attributes that describe individuals and hospital visits, and many of these would combine to affect the likelihood of readmission.  It could be individuals that were attached to a case (nurses and doctors), time of day or year during initial admission, or a multitude of other factors.\n",
    "<br><br>\n",
    "Rather than just randomly selected some relationships to investigate, as mentioned before, I would start with an overall comparison tool such as a PairGrid.  It would give a quick view of what type of distributions the variables follow, and if they appear to have any tight groupings or trends in their plots."
   ]
  },
  {
   "cell_type": "markdown",
   "metadata": {},
   "source": [
    "## VI.  Supporting Documents \n",
    "\n",
    "### Sources for Code"
   ]
  },
  {
   "cell_type": "markdown",
   "metadata": {},
   "source": [
    "Brownlee, J. (2019, August 8). How to Code the Student’s t-Test from Scratch in Python. Machine Learning Mastery. https://machinelearningmastery.com/how-to-code-the-students-t-test-from-scratch-in-python/\n",
    "<br><br>\n",
    "Gunderson, B., West, B. T., & Shedden, K. (n.d.). Comparing Proportions for Two Independent Samples: An Example. Coursera. Retrieved January 24, 2021, from https://www.coursera.org/lecture/inferential-statistical-analysis-python/comparing-proportions-for-two-independent-samples-an-example-GZNUy\n",
    "<br><br>\n",
    "How to Conduct One Sample and Two Sample T-Test in Python. (n.d.). RP’s Blog on Data Science. Retrieved January 24, 2021, from https://datafai.com/how-to-conduct-one-sample-and-two-sample-t-test-in-python/\n",
    "<br><br>\n",
    "Kremelberg, D. (2010, May). Pearson’s r, Chi-square, t-Test, and ANOVA. Practical Statistics. https://www.sagepub.com/sites/default/files/upm-binaries/33663_Chapter4.pdf\n",
    "<br><br>\n",
    "scipy.stats.chisquare — SciPy v1.6.0 Reference Guide. (n.d.). SciPy.Org. Retrieved January 24, 2021, from https://docs.scipy.org/doc/scipy/reference/generated/scipy.stats.chisquare.html\n",
    "<br><br>\n",
    "scipy.stats.ttest_ind — SciPy v1.6.0 Reference Guide. (n.d.). SciPy.Org. Retrieved January 24, 2021, from https://docs.scipy.org/doc/scipy/reference/generated/scipy.stats.ttest_ind.html\n",
    "<br><br>\n",
    "Z. (2020a, July 14). How to Find the Chi-Square Critical Value in Python. Statology. https://www.statology.org/chi-square-critical-value-python/\n",
    "<br><br>\n",
    "Z. (2020b, September 3). How to Conduct a Two Sample T-Test in Python. Statology. https://www.statology.org/two-sample-t-test-python/"
   ]
  },
  {
   "cell_type": "markdown",
   "metadata": {},
   "source": [
    "### Citations"
   ]
  },
  {
   "cell_type": "markdown",
   "metadata": {},
   "source": [
    "Maverick, J. B. (2019, December 5). What assumptions are made when conducting a t-test? Investopedia. https://www.investopedia.com/ask/answers/073115/what-assumptions-are-made-when-conducting-ttest.asp\n",
    "<br><br>\n",
    "Davila, E. (2016, December 19). Statistics Foundations: 3. LinkedIn Learning. https://www.linkedin.com/learning/statistics-foundations-3/welcome?u=2045532\n",
    "<br><br>\n",
    "When Chi-Square is Appropriate. (n.d.). University of Nebraska-Lincoln. Retrieved January 24, 2021, from https://passel2.unl.edu/view/lesson/9beaa382bf7e/14#"
   ]
  }
 ],
 "metadata": {
  "kernelspec": {
   "display_name": "Python 3",
   "language": "python",
   "name": "python3"
  },
  "language_info": {
   "codemirror_mode": {
    "name": "ipython",
    "version": 3
   },
   "file_extension": ".py",
   "mimetype": "text/x-python",
   "name": "python",
   "nbconvert_exporter": "python",
   "pygments_lexer": "ipython3",
   "version": "3.8.5"
  }
 },
 "nbformat": 4,
 "nbformat_minor": 4
}
